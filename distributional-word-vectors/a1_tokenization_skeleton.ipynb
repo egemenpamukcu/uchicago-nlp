{
 "cells": [
  {
   "cell_type": "markdown",
   "id": "8821aa67",
   "metadata": {},
   "source": [
    "The following Python (version 3.8.5) libraries are needed for this part.  \n",
    "See links for instructions on installation if not already installed.\n",
    " - [pandas](https://pypi.org/project/pandas/) 1.3.3\n",
    " - [nltk](https://www.nltk.org/install.html) 3.6.1\n",
    " - [spacy](https://spacy.io/usage) 2.2.2\n",
    "    (and download the pipeline with `en_core_web_sm`)\n",
    " - [tokenizers](https://pypi.org/project/tokenizers/) 0.10.3\n",
    " "
   ]
  },
  {
   "cell_type": "markdown",
   "id": "683f67d5",
   "metadata": {},
   "source": [
    "## 1 Tokenization"
   ]
  },
  {
   "cell_type": "code",
   "execution_count": 1,
   "id": "b6fcbbcd",
   "metadata": {
    "collapsed": true
   },
   "outputs": [],
   "source": [
    "import pandas as pd\n",
    "\n",
    "# read corpus from csv file into list\n",
    "corpus = pd.read_csv('dataset/IRAhandle_tweets_1.csv')['content'].tolist()"
   ]
  },
  {
   "cell_type": "code",
   "execution_count": 2,
   "id": "6214af0b",
   "metadata": {
    "collapsed": true
   },
   "outputs": [],
   "source": [
    "from collections import Counter\n",
    "\n",
    "# The following two functions \"print_stats\" and \"tokenize_texts\" are used for parts 1.1-1.4.\n",
    "\n",
    "def print_stats(tokens):\n",
    "    # TODO: complete this function that prints out tokenization stats of the corpus\n",
    "    # INPUT: \n",
    "    #   tokens: list, a list of all tokens in the entire corpus \n",
    "    #   (there are more memory efficient ways to do this,\n",
    "    #    but this allows for easy modularization in this assignment)\n",
    "    # OUTPUT: prints the (a) number of types (e.g. vocab size), (b) the number of tokens,\n",
    "    #  (c) the type/token ratio of all the tweets,\n",
    "    #  and (d) the top 10 tokens in terms of frequency in the vocabulary.\n",
    "    pass\n",
    "\n",
    "def tokenize_texts(corpus, tokenize_func):\n",
    "    # TODO: complete this function\n",
    "    # INPUT: \n",
    "    #   corpus: list, a list containing the contents of the IRAhandle_tweets_1.csv\n",
    "    #   tokenize_func: function, the function to be used for tokenizing the corpus\n",
    "    # OUTPUT: \n",
    "    #   a) prints the tokenization stats using print_stats()\n",
    "    #   b) prints the tokenization results of the first 3 tweets in the corpus\n",
    "    pass"
   ]
  },
  {
   "cell_type": "markdown",
   "id": "9b38724d",
   "metadata": {},
   "source": [
    "### 1.1 \n",
    "Implement a simple tokenizer. All it does is extracting tokens based on white space (Use split() API in python; do not use any parameter when calling split)."
   ]
  },
  {
   "cell_type": "code",
   "execution_count": 3,
   "id": "a31eab6c",
   "metadata": {
    "collapsed": true
   },
   "outputs": [],
   "source": [
    "def tokenize_simple(text):\n",
    "    # TODO: implement a simple tokenizer\n",
    "    # INPUT: \n",
    "    #   text: string, a single tweet from the corpus\n",
    "    # OUTPUT: a list of tokens\n",
    "    pass\n",
    "\n",
    "print('Tokenize by space:\\n')\n",
    "tokenize_texts(corpus, tokenize_simple)"
   ]
  },
  {
   "cell_type": "markdown",
   "id": "1c439c0a",
   "metadata": {},
   "source": [
    "### 1.2\n",
    "Use NLTK to tokenize a ﬁle. Your ﬁrst step is to install NLTK library. Experiment with the WordPunctTokenizer in NLTK."
   ]
  },
  {
   "cell_type": "code",
   "execution_count": 4,
   "id": "4a2ee8dc",
   "metadata": {
    "collapsed": true
   },
   "outputs": [],
   "source": [
    "# TODO: write a short script, along with any necessary functions, to implement the NLTK tokenizer.\n",
    "# You can follow the example in 1.1, but you will need to think about the input parameters to the tokenizer function\n",
    "# You may find partial in functools a useful thing to use\n",
    "from nltk.tokenize import WordPunctTokenizer\n",
    "from functools import partial"
   ]
  },
  {
   "cell_type": "markdown",
   "id": "5ae3ffcf",
   "metadata": {},
   "source": [
    "### 1.3\n",
    "Try another tokenization tookit: spaCy. Install spaCy in you environment. spaCy by default goes through a bigger NLP pipeline than tokenization, you may want to disable tagger, parser, and ner to speed up the tokenization"
   ]
  },
  {
   "cell_type": "code",
   "execution_count": 5,
   "id": "9fa03598",
   "metadata": {
    "collapsed": true
   },
   "outputs": [],
   "source": [
    "# TODO: write a short script, along with any necessary functions, to implement the Spacy tokenizer.\n",
    "# You can follow the example in 1.1, but you will need to think about the input parameters to the tokenizer function\n",
    "# You may find partial in functools a useful thing to use\n",
    "import spacy\n",
    "\n",
    "nlp = spacy.load(\"en_core_web_sm\", disable=[\"tagger\", \"parser\", \"ner\"])\n"
   ]
  },
  {
   "cell_type": "markdown",
   "id": "a9982b76",
   "metadata": {},
   "source": [
    "### 1.4\n",
    "Build your own tokenzier with BPE model. Follow steps in https://github.com/huggingface/tokenizers. You will use the tweets in IRAhandle_tweets_1.csv as training data instead of using wiki.train(valid/test).raw (you may need to output a temporary ﬁle with a tweet per line for the training). After training, tokenize all the tweets and report the same three items."
   ]
  },
  {
   "cell_type": "code",
   "execution_count": 6,
   "id": "a4903924",
   "metadata": {
    "collapsed": true
   },
   "outputs": [],
   "source": [
    "# TODO: write a short script, along with any necessary functions, to implement the BPE tokenizer.\n",
    "# You can follow the example in 1.1, but you will need to think about the input parameters to the tokenizer function\n",
    "# You may find partial in functools a useful thing to use\n",
    "from tokenizers import Tokenizer\n",
    "from tokenizers.models import BPE\n",
    "from tokenizers.pre_tokenizers import Whitespace\n",
    "from tokenizers.trainers import BpeTrainer\n"
   ]
  }
 ],
 "metadata": {
  "kernelspec": {
   "display_name": "Python 3",
   "language": "python",
   "name": "python3"
  },
  "language_info": {
   "codemirror_mode": {
    "name": "ipython",
    "version": 3
   },
   "file_extension": ".py",
   "mimetype": "text/x-python",
   "name": "python",
   "nbconvert_exporter": "python",
   "pygments_lexer": "ipython3",
   "version": "3.8.5"
  }
 },
 "nbformat": 4,
 "nbformat_minor": 5
}
